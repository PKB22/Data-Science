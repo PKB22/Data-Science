{
 "cells": [
  {
   "cell_type": "code",
   "execution_count": 1,
   "metadata": {
    "scrolled": true
   },
   "outputs": [
    {
     "name": "stdout",
     "output_type": "stream",
     "text": [
      "Requirement already satisfied: findspark in c:\\programdata\\anaconda3\\lib\\site-packages (2.0.1)\n",
      "Requirement already satisfied: pyspark in c:\\programdata\\anaconda3\\lib\\site-packages (3.3.0)\n",
      "Requirement already satisfied: py4j==0.10.9.5 in c:\\programdata\\anaconda3\\lib\\site-packages (from pyspark) (0.10.9.5)\n"
     ]
    }
   ],
   "source": [
    "!pip install findspark\n",
    "import findspark\n",
    "findspark.init()\n",
    "\n",
    "!pip install pyspark"
   ]
  },
  {
   "cell_type": "code",
   "execution_count": 2,
   "metadata": {},
   "outputs": [
    {
     "name": "stdout",
     "output_type": "stream",
     "text": [
      "Requirement already satisfied: pandas in c:\\programdata\\anaconda3\\lib\\site-packages (0.24.2)\n",
      "Requirement already satisfied: python-dateutil>=2.5.0 in c:\\programdata\\anaconda3\\lib\\site-packages (from pandas) (2.8.0)\n",
      "Requirement already satisfied: numpy>=1.12.0 in c:\\programdata\\anaconda3\\lib\\site-packages (from pandas) (1.16.2)\n",
      "Requirement already satisfied: pytz>=2011k in c:\\programdata\\anaconda3\\lib\\site-packages (from pandas) (2018.9)\n",
      "Requirement already satisfied: six>=1.5 in c:\\programdata\\anaconda3\\lib\\site-packages (from python-dateutil>=2.5.0->pandas) (1.12.0)\n"
     ]
    }
   ],
   "source": [
    "!pip install pandas"
   ]
  },
  {
   "cell_type": "code",
   "execution_count": 3,
   "metadata": {},
   "outputs": [],
   "source": [
    "import pyspark\n",
    "import pandas as pd\n",
    "from pyspark.sql import SparkSession\n",
    "from pyspark.sql import functions as func"
   ]
  },
  {
   "cell_type": "code",
   "execution_count": 4,
   "metadata": {
    "scrolled": true
   },
   "outputs": [
    {
     "name": "stdout",
     "output_type": "stream",
     "text": [
      "Collecting package metadata (current_repodata.json): ...working... done\n",
      "Solving environment: ...working... done\n",
      "\n",
      "# All requested packages already installed.\n",
      "\n",
      "\n",
      "Note: you may need to restart the kernel to use updated packages.\n"
     ]
    }
   ],
   "source": [
    "conda install matplotlib"
   ]
  },
  {
   "cell_type": "code",
   "execution_count": 5,
   "metadata": {},
   "outputs": [],
   "source": [
    "import matplotlib.pyplot as plot\n",
    "import numpy as nump\n",
    "%matplotlib inline"
   ]
  },
  {
   "cell_type": "code",
   "execution_count": 6,
   "metadata": {},
   "outputs": [],
   "source": [
    "spark = SparkSession \\\n",
    ".builder \\\n",
    ".appName(\"PySpark App\") \\\n",
    ".getOrCreate()\n"
   ]
  },
  {
   "cell_type": "code",
   "execution_count": 7,
   "metadata": {},
   "outputs": [
    {
     "name": "stdout",
     "output_type": "stream",
     "text": [
      "<class 'pandas.core.frame.DataFrame'>\n",
      "RangeIndex: 38502 entries, 0 to 38501\n",
      "Data columns (total 6 columns):\n",
      "Three-Digit ZIP Code    38502 non-null int64\n",
      "Year                    38502 non-null int64\n",
      "Annual Change (%)       38502 non-null object\n",
      "HPI                     38502 non-null object\n",
      "HPI with 1990 base      38502 non-null object\n",
      "HPI with 2000 base      38502 non-null object\n",
      "dtypes: int64(2), object(4)\n",
      "memory usage: 1.8+ MB\n",
      "None\n"
     ]
    }
   ],
   "source": [
    "readexcel = pd.read_excel('C:/Users/CPS/HPI_AT_BDL_ZIP3.xlsx')\n",
    "print(readexcel.info())\n"
   ]
  },
  {
   "cell_type": "code",
   "execution_count": 8,
   "metadata": {},
   "outputs": [
    {
     "data": {
      "text/plain": [
       "Three-Digit ZIP Code    0\n",
       "Year                    0\n",
       "Annual Change (%)       0\n",
       "HPI                     0\n",
       "HPI with 1990 base      0\n",
       "HPI with 2000 base      0\n",
       "dtype: int64"
      ]
     },
     "execution_count": 8,
     "metadata": {},
     "output_type": "execute_result"
    }
   ],
   "source": [
    "readexcel['Annual Change (%)'] = pd.to_numeric(readexcel['Annual Change (%)'], errors='coerce')\n",
    "readexcel['HPI'] = pd.to_numeric(readexcel['HPI'], errors='coerce')\n",
    "readexcel['HPI with 1990 base'] = pd.to_numeric(readexcel['HPI with 1990 base'], errors='coerce')\n",
    "readexcel['HPI with 2000 base'] = pd.to_numeric(readexcel['HPI with 2000 base'], errors='coerce')\n",
    "readexcel=readexcel.dropna()\n",
    "readexcel.isna().sum()"
   ]
  },
  {
   "cell_type": "code",
   "execution_count": 9,
   "metadata": {},
   "outputs": [],
   "source": [
    "dataset1 = spark.createDataFrame(readexcel)"
   ]
  },
  {
   "cell_type": "code",
   "execution_count": 10,
   "metadata": {},
   "outputs": [
    {
     "name": "stdout",
     "output_type": "stream",
     "text": [
      "36041\n",
      "Dataset overview\n"
     ]
    },
    {
     "data": {
      "text/html": [
       "<div>\n",
       "<style scoped>\n",
       "    .dataframe tbody tr th:only-of-type {\n",
       "        vertical-align: middle;\n",
       "    }\n",
       "\n",
       "    .dataframe tbody tr th {\n",
       "        vertical-align: top;\n",
       "    }\n",
       "\n",
       "    .dataframe thead th {\n",
       "        text-align: right;\n",
       "    }\n",
       "</style>\n",
       "<table border=\"1\" class=\"dataframe\">\n",
       "  <thead>\n",
       "    <tr style=\"text-align: right;\">\n",
       "      <th></th>\n",
       "      <th>Column</th>\n",
       "      <th>type</th>\n",
       "    </tr>\n",
       "  </thead>\n",
       "  <tbody>\n",
       "    <tr>\n",
       "      <th>0</th>\n",
       "      <td>Three-Digit ZIP Code</td>\n",
       "      <td>bigint</td>\n",
       "    </tr>\n",
       "    <tr>\n",
       "      <th>1</th>\n",
       "      <td>Year</td>\n",
       "      <td>bigint</td>\n",
       "    </tr>\n",
       "    <tr>\n",
       "      <th>2</th>\n",
       "      <td>Annual Change (%)</td>\n",
       "      <td>double</td>\n",
       "    </tr>\n",
       "    <tr>\n",
       "      <th>3</th>\n",
       "      <td>HPI</td>\n",
       "      <td>double</td>\n",
       "    </tr>\n",
       "    <tr>\n",
       "      <th>4</th>\n",
       "      <td>HPI with 1990 base</td>\n",
       "      <td>double</td>\n",
       "    </tr>\n",
       "    <tr>\n",
       "      <th>5</th>\n",
       "      <td>HPI with 2000 base</td>\n",
       "      <td>double</td>\n",
       "    </tr>\n",
       "  </tbody>\n",
       "</table>\n",
       "</div>"
      ],
      "text/plain": [
       "                 Column    type\n",
       "0  Three-Digit ZIP Code  bigint\n",
       "1                  Year  bigint\n",
       "2     Annual Change (%)  double\n",
       "3                   HPI  double\n",
       "4    HPI with 1990 base  double\n",
       "5    HPI with 2000 base  double"
      ]
     },
     "execution_count": 10,
     "metadata": {},
     "output_type": "execute_result"
    }
   ],
   "source": [
    "print(len(readexcel))\n",
    "print('Dataset overview')\n",
    "pd.DataFrame(dataset1.dtypes, columns = ['Column','type'])"
   ]
  },
  {
   "cell_type": "code",
   "execution_count": 11,
   "metadata": {},
   "outputs": [
    {
     "name": "stdout",
     "output_type": "stream",
     "text": [
      "root\n",
      " |-- Three-Digit ZIP Code: long (nullable = true)\n",
      " |-- Year: long (nullable = true)\n",
      " |-- Annual Change (%): double (nullable = true)\n",
      " |-- HPI: double (nullable = true)\n",
      " |-- HPI with 1990 base: double (nullable = true)\n",
      " |-- HPI with 2000 base: double (nullable = true)\n",
      "\n"
     ]
    }
   ],
   "source": [
    "dataset1.printSchema()"
   ]
  },
  {
   "cell_type": "code",
   "execution_count": 12,
   "metadata": {},
   "outputs": [
    {
     "name": "stdout",
     "output_type": "stream",
     "text": [
      "+--------------------+----+-----------------+------+------------------+------------------+\n",
      "|Three-Digit ZIP Code|Year|Annual Change (%)|   HPI|HPI with 1990 base|HPI with 2000 base|\n",
      "+--------------------+----+-----------------+------+------------------+------------------+\n",
      "|                  10|1976|             7.72|107.72|             24.84|             23.18|\n",
      "|                  10|1977|              6.7|114.93|             26.51|             24.74|\n",
      "|                  10|1978|             7.86|123.97|             28.59|             26.68|\n",
      "|                  10|1979|            16.42|144.32|             33.29|             31.06|\n",
      "|                  10|1980|             11.8|161.35|             37.21|             34.73|\n",
      "|                  10|1981|             7.08|172.77|             39.85|             37.18|\n",
      "|                  10|1982|            11.99|193.49|             44.63|             41.64|\n",
      "|                  10|1983|             6.56|206.18|             47.55|             44.37|\n",
      "|                  10|1984|            15.56|238.26|             54.95|             51.28|\n",
      "|                  10|1985|            12.24|267.44|             61.68|             57.56|\n",
      "+--------------------+----+-----------------+------+------------------+------------------+\n",
      "only showing top 10 rows\n",
      "\n"
     ]
    }
   ],
   "source": [
    "dataset1.show(10)"
   ]
  },
  {
   "cell_type": "code",
   "execution_count": 13,
   "metadata": {},
   "outputs": [
    {
     "name": "stdout",
     "output_type": "stream",
     "text": [
      "+-------+--------------------+------------------+-----------------+------------------+------------------+------------------+\n",
      "|summary|Three-Digit ZIP Code|              Year|Annual Change (%)|               HPI|HPI with 1990 base|HPI with 2000 base|\n",
      "+-------+--------------------+------------------+-----------------+------------------+------------------+------------------+\n",
      "|  count|               36041|             36041|            36041|             36041|             36041|             36041|\n",
      "|   mean|   498.6425737354679|1999.5837518381843|4.147201520490553| 325.5512319303017| 148.3197283649177|105.50716794761516|\n",
      "| stddev|   286.6674758693039|12.826085730596116|6.316998588681571|230.29105065073608| 69.36410156945963|  47.5181085218317|\n",
      "|    min|                  10|              1976|           -43.25|             53.12|             19.16|             10.46|\n",
      "|    max|                 999|              2021|            72.25|            2252.6|             751.4|            412.64|\n",
      "+-------+--------------------+------------------+-----------------+------------------+------------------+------------------+\n",
      "\n"
     ]
    }
   ],
   "source": [
    "dataset1.select('Three-Digit ZIP Code','Year','Annual Change (%)','HPI','HPI with 1990 base','HPI with 2000 base').describe().show()\n"
   ]
  },
  {
   "cell_type": "code",
   "execution_count": 14,
   "metadata": {},
   "outputs": [
    {
     "name": "stdout",
     "output_type": "stream",
     "text": [
      "+----+----------------------+\n",
      "|Year|avg(Annual Change (%))|\n",
      "+----+----------------------+\n",
      "|2009|    -4.725826296743065|\n",
      "|2010|   -3.5191797346200238|\n",
      "|2011|   -2.9336429433051867|\n",
      "|2008|    -2.471785283474065|\n",
      "|2012|   -0.6908805790108566|\n",
      "|1982|    1.0165818759936411|\n",
      "|2007|     2.172605548854041|\n",
      "|1991|    2.2258262967430635|\n",
      "|1992|     2.449215922798552|\n",
      "|2013|     2.456067551266586|\n",
      "|1990|    2.6243288996372436|\n",
      "|1993|    2.6356936067551264|\n",
      "|1994|    3.0755971049457185|\n",
      "|1996|    3.1653558504221952|\n",
      "|1997|    3.3422677925211097|\n",
      "+----+----------------------+\n",
      "only showing top 15 rows\n",
      "\n"
     ]
    }
   ],
   "source": [
    "dataset1.groupBy(\"Year\").agg({'Annual Change (%)': 'mean'}).sort(\"avg(Annual Change (%))\", ascending = True).show(15)\n"
   ]
  },
  {
   "cell_type": "code",
   "execution_count": 15,
   "metadata": {},
   "outputs": [
    {
     "name": "stdout",
     "output_type": "stream",
     "text": [
      "+----+--------+\n",
      "|Year|max(HPI)|\n",
      "+----+--------+\n",
      "|2018|  2252.6|\n",
      "|2019| 2235.87|\n",
      "|2021| 2220.15|\n",
      "|2020| 2087.96|\n",
      "|2017|  2036.4|\n",
      "|2016| 1926.75|\n",
      "|2007| 1807.63|\n",
      "|2006|  1803.6|\n",
      "|2015| 1722.52|\n",
      "|2005| 1717.32|\n",
      "|2014| 1589.89|\n",
      "|2008| 1589.08|\n",
      "|2013| 1572.74|\n",
      "|2012| 1523.89|\n",
      "|2009| 1457.23|\n",
      "+----+--------+\n",
      "only showing top 15 rows\n",
      "\n"
     ]
    }
   ],
   "source": [
    "dataset1.groupBy(\"Year\").agg({'HPI' : 'max'}).sort(\"max(HPI)\", ascending = False).show(15)\n"
   ]
  },
  {
   "cell_type": "code",
   "execution_count": 16,
   "metadata": {
    "scrolled": true
   },
   "outputs": [
    {
     "data": {
      "text/plain": [
       "<matplotlib.axes._subplots.AxesSubplot at 0x17990fbba20>"
      ]
     },
     "execution_count": 16,
     "metadata": {},
     "output_type": "execute_result"
    },
    {
     "data": {
      "image/png": "[encoded data removed]",
      "text/plain": [
       "<Figure size 432x288 with 1 Axes>"
      ]
     },
     "metadata": {
      "needs_background": "light"
     },
     "output_type": "display_data"
    }
   ],
   "source": [
    "dataset1.toPandas().plot(kind = 'scatter', x = 'Year', y = 'HPI')"
   ]
  },
  {
   "cell_type": "code",
   "execution_count": 17,
   "metadata": {},
   "outputs": [
    {
     "data": {
      "text/plain": [
       "<matplotlib.axes._subplots.AxesSubplot at 0x17992b1ef98>"
      ]
     },
     "execution_count": 17,
     "metadata": {},
     "output_type": "execute_result"
    },
    {
     "data": {
      "image/png": "[encoded data removed]",
      "text/plain": [
       "<Figure size 432x288 with 1 Axes>"
      ]
     },
     "metadata": {
      "needs_background": "light"
     },
     "output_type": "display_data"
    }
   ],
   "source": [
    "dataset1.toPandas().plot(kind = 'scatter', x = 'Year', y = 'Annual Change (%)')"
   ]
  },
  {
   "cell_type": "code",
   "execution_count": 18,
   "metadata": {},
   "outputs": [
    {
     "name": "stdout",
     "output_type": "stream",
     "text": [
      "<class 'pandas.core.frame.DataFrame'>\n",
      "Int64Index: 36041 entries, 1 to 38501\n",
      "Data columns (total 6 columns):\n",
      "Three-Digit ZIP Code    36041 non-null int64\n",
      "Year                    36041 non-null int64\n",
      "Annual Change (%)       36041 non-null float64\n",
      "HPI                     36041 non-null float64\n",
      "HPI with 1990 base      36041 non-null float64\n",
      "HPI with 2000 base      36041 non-null float64\n",
      "dtypes: float64(4), int64(2)\n",
      "memory usage: 1.9 MB\n",
      "None\n"
     ]
    }
   ],
   "source": [
    "readexcel2 = pd.read_excel('C:/Users/CPS/HPI_AT_BDL_ZIP5.xlsx')\n",
    "print(readexcel.info())\n"
   ]
  },
  {
   "cell_type": "code",
   "execution_count": 19,
   "metadata": {},
   "outputs": [
    {
     "data": {
      "text/plain": [
       "Five-Digit ZIP Code    0\n",
       "Year                   0\n",
       "Annual Change (%)      0\n",
       "HPI                    0\n",
       "HPI with 1990 base     0\n",
       "HPI with 2000 base     0\n",
       "dtype: int64"
      ]
     },
     "execution_count": 19,
     "metadata": {},
     "output_type": "execute_result"
    }
   ],
   "source": [
    "readexcel2['Annual Change (%)'] = pd.to_numeric(readexcel2['Annual Change (%)'], errors='coerce')\n",
    "readexcel2['HPI'] = pd.to_numeric(readexcel2['HPI'], errors='coerce')\n",
    "readexcel2['HPI with 1990 base'] = pd.to_numeric(readexcel2['HPI with 1990 base'], errors='coerce')\n",
    "readexcel2['HPI with 2000 base'] = pd.to_numeric(readexcel2['HPI with 2000 base'], errors='coerce')\n",
    "readexcel2=readexcel2.dropna()\n",
    "readexcel2.isna().sum()"
   ]
  },
  {
   "cell_type": "code",
   "execution_count": 20,
   "metadata": {},
   "outputs": [],
   "source": [
    "dataset2 = spark.createDataFrame(readexcel2)"
   ]
  },
  {
   "cell_type": "code",
   "execution_count": 21,
   "metadata": {},
   "outputs": [
    {
     "name": "stdout",
     "output_type": "stream",
     "text": [
      "355434\n",
      "Dataset overview\n"
     ]
    },
    {
     "data": {
      "text/html": [
       "<div>\n",
       "<style scoped>\n",
       "    .dataframe tbody tr th:only-of-type {\n",
       "        vertical-align: middle;\n",
       "    }\n",
       "\n",
       "    .dataframe tbody tr th {\n",
       "        vertical-align: top;\n",
       "    }\n",
       "\n",
       "    .dataframe thead th {\n",
       "        text-align: right;\n",
       "    }\n",
       "</style>\n",
       "<table border=\"1\" class=\"dataframe\">\n",
       "  <thead>\n",
       "    <tr style=\"text-align: right;\">\n",
       "      <th></th>\n",
       "      <th>Column</th>\n",
       "      <th>type</th>\n",
       "    </tr>\n",
       "  </thead>\n",
       "  <tbody>\n",
       "    <tr>\n",
       "      <th>0</th>\n",
       "      <td>Five-Digit ZIP Code</td>\n",
       "      <td>bigint</td>\n",
       "    </tr>\n",
       "    <tr>\n",
       "      <th>1</th>\n",
       "      <td>Year</td>\n",
       "      <td>bigint</td>\n",
       "    </tr>\n",
       "    <tr>\n",
       "      <th>2</th>\n",
       "      <td>Annual Change (%)</td>\n",
       "      <td>double</td>\n",
       "    </tr>\n",
       "    <tr>\n",
       "      <th>3</th>\n",
       "      <td>HPI</td>\n",
       "      <td>double</td>\n",
       "    </tr>\n",
       "    <tr>\n",
       "      <th>4</th>\n",
       "      <td>HPI with 1990 base</td>\n",
       "      <td>double</td>\n",
       "    </tr>\n",
       "    <tr>\n",
       "      <th>5</th>\n",
       "      <td>HPI with 2000 base</td>\n",
       "      <td>double</td>\n",
       "    </tr>\n",
       "  </tbody>\n",
       "</table>\n",
       "</div>"
      ],
      "text/plain": [
       "                Column    type\n",
       "0  Five-Digit ZIP Code  bigint\n",
       "1                 Year  bigint\n",
       "2    Annual Change (%)  double\n",
       "3                  HPI  double\n",
       "4   HPI with 1990 base  double\n",
       "5   HPI with 2000 base  double"
      ]
     },
     "execution_count": 21,
     "metadata": {},
     "output_type": "execute_result"
    }
   ],
   "source": [
    "print(len(readexcel2))\n",
    "print('Dataset overview')\n",
    "pd.DataFrame(dataset2.dtypes, columns = ['Column','type'])\n"
   ]
  },
  {
   "cell_type": "code",
   "execution_count": 22,
   "metadata": {},
   "outputs": [
    {
     "name": "stdout",
     "output_type": "stream",
     "text": [
      "root\n",
      " |-- Five-Digit ZIP Code: long (nullable = true)\n",
      " |-- Year: long (nullable = true)\n",
      " |-- Annual Change (%): double (nullable = true)\n",
      " |-- HPI: double (nullable = true)\n",
      " |-- HPI with 1990 base: double (nullable = true)\n",
      " |-- HPI with 2000 base: double (nullable = true)\n",
      "\n"
     ]
    }
   ],
   "source": [
    "dataset2.printSchema()"
   ]
  },
  {
   "cell_type": "code",
   "execution_count": 23,
   "metadata": {},
   "outputs": [
    {
     "name": "stdout",
     "output_type": "stream",
     "text": [
      "+-------------------+----+-----------------+------+------------------+------------------+\n",
      "|Five-Digit ZIP Code|Year|Annual Change (%)|   HPI|HPI with 1990 base|HPI with 2000 base|\n",
      "+-------------------+----+-----------------+------+------------------+------------------+\n",
      "|               1001|1986|            14.16|114.16|             70.67|             69.62|\n",
      "|               1001|1987|            21.05|138.19|             85.55|             84.28|\n",
      "|               1001|1988|            17.64|162.56|            100.63|             99.14|\n",
      "|               1001|1989|             0.89| 164.0|            101.53|            100.02|\n",
      "|               1001|1990|             -1.5|161.54|             100.0|             98.52|\n",
      "|               1001|1991|            -5.76|152.23|             94.24|             92.84|\n",
      "|               1001|1992|            -1.29|150.27|             93.02|             91.64|\n",
      "|               1001|1993|            -0.11|150.11|             92.92|             91.54|\n",
      "|               1001|1994|            -2.54| 146.3|             90.57|             89.22|\n",
      "|               1001|1995|             1.87|149.03|             92.26|             90.89|\n",
      "+-------------------+----+-----------------+------+------------------+------------------+\n",
      "only showing top 10 rows\n",
      "\n"
     ]
    }
   ],
   "source": [
    "dataset2.show(10)"
   ]
  },
  {
   "cell_type": "code",
   "execution_count": 24,
   "metadata": {},
   "outputs": [
    {
     "name": "stdout",
     "output_type": "stream",
     "text": [
      "+-------+-------------------+-----------------+-----------------+-----------------+------------------+------------------+\n",
      "|summary|Five-Digit ZIP Code|             Year|Annual Change (%)|              HPI|HPI with 1990 base|HPI with 2000 base|\n",
      "+-------+-------------------+-----------------+-----------------+-----------------+------------------+------------------+\n",
      "|  count|             355434|           355434|           355434|           355434|            355434|            355434|\n",
      "|   mean|  49138.00271217723|2001.619811272979|4.285686484691951|295.4014652227985|158.80896819100045|113.47909578149535|\n",
      "| stddev| 30900.634135962235| 11.7493005355642|7.511180535753306| 221.730179033808|  75.8669198979043| 51.27074847072266|\n",
      "|    min|               1001|             1976|           -58.54|            44.32|             18.31|             10.45|\n",
      "|    max|              99901|             2021|            93.68|           2751.9|           1089.25|            565.71|\n",
      "+-------+-------------------+-----------------+-----------------+-----------------+------------------+------------------+\n",
      "\n"
     ]
    }
   ],
   "source": [
    "dataset2.select('Five-Digit ZIP Code','Year','Annual Change (%)','HPI','HPI with 1990 base','HPI with 2000 base').describe().show()\n"
   ]
  },
  {
   "cell_type": "code",
   "execution_count": 25,
   "metadata": {},
   "outputs": [
    {
     "name": "stdout",
     "output_type": "stream",
     "text": [
      "+----+----------------------+\n",
      "|Year|avg(Annual Change (%))|\n",
      "+----+----------------------+\n",
      "|2009|    -7.680542328042332|\n",
      "|2008|     -5.16549592241569|\n",
      "|2010|    -4.339190649465214|\n",
      "|2011|    -4.017239744155273|\n",
      "|2012|    -1.118195745618869|\n",
      "|1982|   -0.2721801082929617|\n",
      "|2007|    0.5606799647344052|\n",
      "|1991|    1.6761703769010354|\n",
      "|1993|     1.779681612867687|\n",
      "|1994|    2.0643532393124726|\n",
      "|1992|    2.0815538902358384|\n",
      "|1996|    2.9497432223936513|\n",
      "|1990|    3.1330973850315598|\n",
      "|1995|    3.2033954154727797|\n",
      "|1997|    3.4712939490796866|\n",
      "+----+----------------------+\n",
      "only showing top 15 rows\n",
      "\n"
     ]
    }
   ],
   "source": [
    "dataset2.groupBy(\"Year\").agg({'Annual Change (%)': 'mean'}).sort(\"avg(Annual Change (%))\", ascending = True).show(15)\n"
   ]
  },
  {
   "cell_type": "code",
   "execution_count": 26,
   "metadata": {},
   "outputs": [
    {
     "name": "stdout",
     "output_type": "stream",
     "text": [
      "+----+--------+\n",
      "|Year|max(HPI)|\n",
      "+----+--------+\n",
      "|2021|  2751.9|\n",
      "|2018| 2657.94|\n",
      "|2020| 2634.33|\n",
      "|2019| 2571.46|\n",
      "|2016| 2446.81|\n",
      "|2017| 2401.97|\n",
      "|2015|  2388.2|\n",
      "|2014| 2178.29|\n",
      "|2013|  1853.0|\n",
      "|2006| 1790.64|\n",
      "|2008| 1772.81|\n",
      "|2007| 1739.24|\n",
      "|2005| 1723.74|\n",
      "|2012| 1671.96|\n",
      "|2010| 1629.64|\n",
      "+----+--------+\n",
      "only showing top 15 rows\n",
      "\n"
     ]
    }
   ],
   "source": [
    "dataset2.groupBy(\"Year\").agg({'HPI' : 'max'}).sort(\"max(HPI)\", ascending = False).show(15)"
   ]
  },
  {
   "cell_type": "code",
   "execution_count": 27,
   "metadata": {
    "scrolled": true
   },
   "outputs": [
    {
     "data": {
      "text/plain": [
       "<matplotlib.axes._subplots.AxesSubplot at 0x17991ad2630>"
      ]
     },
     "execution_count": 27,
     "metadata": {},
     "output_type": "execute_result"
    },
    {
     "data": {
      "image/png": "[encoded data removed]",
      "text/plain": [
       "<Figure size 432x288 with 1 Axes>"
      ]
     },
     "metadata": {
      "needs_background": "light"
     },
     "output_type": "display_data"
    }
   ],
   "source": [
    "dataset2.toPandas().plot(kind = 'scatter', x = 'Year', y = 'HPI')\n"
   ]
  },
  {
   "cell_type": "code",
   "execution_count": 28,
   "metadata": {},
   "outputs": [
    {
     "data": {
      "text/plain": [
       "<matplotlib.axes._subplots.AxesSubplot at 0x17991e0a5f8>"
      ]
     },
     "execution_count": 28,
     "metadata": {},
     "output_type": "execute_result"
    },
    {
     "data": {
      "image/png": "[encoded data removed]",
      "text/plain": [
       "<Figure size 432x288 with 1 Axes>"
      ]
     },
     "metadata": {
      "needs_background": "light"
     },
     "output_type": "display_data"
    }
   ],
   "source": [
    "dataset2.toPandas().plot(kind = 'scatter', x = 'Year', y = 'Annual Change (%)')"
   ]
  },
  {
   "cell_type": "code",
   "execution_count": 29,
   "metadata": {},
   "outputs": [],
   "source": [
    "spark.stop()"
   ]
  }
 ],
 "metadata": {
  "kernelspec": {
   "display_name": "Python 3 (ipykernel)",
   "language": "python",
   "name": "python3"
  },
  "language_info": {
   "codemirror_mode": {
    "name": "ipython",
    "version": 3
   },
   "file_extension": ".py",
   "mimetype": "text/x-python",
   "name": "python",
   "nbconvert_exporter": "python",
   "pygments_lexer": "ipython3",
   "version": "3.9.7"
  }
 },
 "nbformat": 4,
 "nbformat_minor": 2
}
