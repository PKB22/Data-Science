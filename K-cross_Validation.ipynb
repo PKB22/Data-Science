{
 "cells": [
  {
   "cell_type": "markdown",
   "metadata": {
    "id": "iBiG3IEjoPzt"
   },
   "source": [
    "# k-fold cross validation\n",
    "\n",
    "##### k-cross validation is a model validation technique in which we spilt the data into n numbers and perfrom the model validation to understand the accuracy of the model over majority of data.\n"
   ]
  },
  {
   "cell_type": "code",
   "execution_count": 13,
   "metadata": {
    "ExecuteTime": {
     "end_time": "2022-06-26T21:20:08.346100Z",
     "start_time": "2022-06-26T21:20:05.306603Z"
    },
    "colab": {
     "base_uri": "https://localhost:8080/"
    },
    "id": "vKFIJH9moWiY",
    "outputId": "8cd9543c-62b6-4dfa-dbb8-a14668386e95"
   },
   "outputs": [
    {
     "name": "stdout",
     "output_type": "stream",
     "text": [
      "Accuracy: 0.868 with a standard deviation of : (0.032)\n"
     ]
    }
   ],
   "source": [
    "'''Based on the tutorial provided in the instruction, below is a \n",
    "   model validation/evaluatation of a logistic regression model using k-fold cross-validation\n",
    "    First I imported some required library of mean and standard deviation, and sklearn is being used to get the other related \n",
    "    functions\n",
    "'''\n",
    "\n",
    "from numpy import mean\n",
    "from numpy import std\n",
    "from sklearn.datasets import make_classification\n",
    "from sklearn.model_selection import KFold\n",
    "from sklearn.model_selection import cross_val_score\n",
    "from sklearn.linear_model import LogisticRegression\n",
    "\n",
    "# We create a dataset using make_classfication method, where we took sample of 1000 data with 20 featuers\n",
    "X, y = make_classification(n_samples=1000, n_features=20, n_informative=15, n_redundant=5, random_state=1)\n",
    "\n",
    "# Next we prepared the cross-validation procedure with 10 splits\n",
    "cv = KFold(n_splits=10, random_state=1, shuffle=True)\n",
    "# build the Logistic regression model\n",
    "model = LogisticRegression()\n",
    "# Fit and validate the  model\n",
    "validation_scores = cross_val_score(model, X, y, scoring='accuracy', cv=cv, n_jobs=-1)\n",
    "# report performance\n",
    "print('Accuracy: %.3f with a sample standard deviation of : (%.3f)' % (mean(validation_scores), std(validation_scores)))"
   ]
  },
  {
   "cell_type": "markdown",
   "metadata": {},
   "source": [
    "### Similar to that, as instruced in the given post, I did the same cross-validation for repeated k-folds"
   ]
  },
  {
   "cell_type": "code",
   "execution_count": 14,
   "metadata": {
    "ExecuteTime": {
     "end_time": "2022-06-26T21:20:09.276666Z",
     "start_time": "2022-06-26T21:20:08.347101Z"
    },
    "colab": {
     "base_uri": "https://localhost:8080/"
    },
    "id": "Tdf05BCMoYH2",
    "outputId": "cfe252a8-4ffe-4960-ab10-c262249e240d"
   },
   "outputs": [
    {
     "name": "stdout",
     "output_type": "stream",
     "text": [
      "Accuracy: 0.867 with a standard deviation of (0.031)\n"
     ]
    }
   ],
   "source": [
    "# Imported the RepeatKfold library\n",
    "from sklearn.model_selection import RepeatedKFold\n",
    "\n",
    "# recreate the dataset with 1000 samples again\n",
    "X, y = make_classification(n_samples=1000, n_features=20, n_informative=15, n_redundant=5, random_state=1)\n",
    "\n",
    "# Prepared the repeated k-fold cross-validation procedure with 10 splits and 3 times repeating\n",
    "cv = RepeatedKFold(n_splits=10, n_repeats=3, random_state=1)\n",
    "model = LogisticRegression()\n",
    "\n",
    "# Fit and validate the  model\n",
    "validation_scores = cross_val_score(model, X, y, scoring='accuracy', cv=cv, n_jobs=-1)\n",
    "# report performance\n",
    "print('Accuracy: %.3f with a sample standard deviation of (%.3f)' % (mean(validation_scores), std(validation_scores)))"
   ]
  },
  {
   "cell_type": "markdown",
   "metadata": {},
   "source": [
    "### We can see that at repeat value 3, there is no significant difference between the accuracy. So next we will compare for a range of repeat values and will observe the difference in accuracy and will plot it."
   ]
  },
  {
   "cell_type": "code",
   "execution_count": 23,
   "metadata": {
    "ExecuteTime": {
     "end_time": "2022-06-26T21:20:11.503691Z",
     "start_time": "2022-06-26T21:20:09.278661Z"
    },
    "id": "P_Ek2czDoZrS",
    "scrolled": true
   },
   "outputs": [
    {
     "name": "stdout",
     "output_type": "stream",
     "text": [
      "The accuracy for repeat 1 is 0.8680 with a standard error of=0.011\n",
      "The accuracy for repeat 2 is 0.8675 with a standard error of=0.008\n",
      "The accuracy for repeat 3 is 0.8673 with a standard error of=0.006\n",
      "The accuracy for repeat 4 is 0.8670 with a standard error of=0.006\n",
      "The accuracy for repeat 5 is 0.8658 with a standard error of=0.005\n",
      "The accuracy for repeat 6 is 0.8655 with a standard error of=0.004\n",
      "The accuracy for repeat 7 is 0.8651 with a standard error of=0.004\n",
      "The accuracy for repeat 8 is 0.8651 with a standard error of=0.004\n",
      "The accuracy for repeat 9 is 0.8656 with a standard error of=0.003\n",
      "The accuracy for repeat 10 is 0.8658 with a standard error of=0.003\n",
      "The accuracy for repeat 11 is 0.8655 with a standard error of=0.003\n",
      "The accuracy for repeat 12 is 0.8654 with a standard error of=0.003\n",
      "The accuracy for repeat 13 is 0.8652 with a standard error of=0.003\n",
      "The accuracy for repeat 14 is 0.8651 with a standard error of=0.003\n",
      "The accuracy for repeat 15 is 0.8653 with a standard error of=0.003\n"
     ]
    }
   ],
   "source": [
    "from scipy.stats import sem\n",
    "from matplotlib import pyplot\n",
    "\n",
    "# Created a evaluate_model funtion to validate the model at diffrent value of repeats\n",
    "def evaluate_model(X, y, repeats):\n",
    "    cv = RepeatedKFold(n_splits=10, n_repeats=repeats, random_state=1)\n",
    "    model = LogisticRegression()  \n",
    "    scores = cross_val_score(model, X, y, scoring='accuracy', cv=cv, n_jobs=-1)\n",
    "    return scores\n",
    "\n",
    "# recreate the dataset\n",
    "X, y = make_classification(n_samples=1000, n_features=20, n_informative=15, n_redundant=5, random_state=1)\n",
    "# Gave a range of repeating times from 1 to 15 and storing the result in a list \n",
    "repeats = range(1,16)\n",
    "results = list()\n",
    "for r in repeats:\n",
    "    # evaluate using a given number of repeats\n",
    "    scores = evaluate_model(X, y, r)\n",
    "    # summarize\n",
    "    print('The accuracy for repeat %d is %.4f with a standard error of=%.3f' % (r, mean(scores), sem(scores)))\n",
    "    # store\n",
    "    results.append(scores)\n"
   ]
  },
  {
   "cell_type": "code",
   "execution_count": 24,
   "metadata": {},
   "outputs": [
    {
     "data": {
      "image/png": "[encoded data removed]",
      "text/plain": [
       "<Figure size 432x288 with 1 Axes>"
      ]
     },
     "metadata": {
      "needs_background": "light"
     },
     "output_type": "display_data"
    }
   ],
   "source": [
    "# plot the results as a boxplot \n",
    "pyplot.boxplot(results, labels=[str(r) for r in repeats], showmeans=True)\n",
    "pyplot.show()"
   ]
  },
  {
   "cell_type": "markdown",
   "metadata": {
    "id": "H7ucFrqXofAy"
   },
   "source": [
    "### As a result, we saw that when repeated kfold implementation is implemented then after the 5th repeat the accuracy remains almost constant.\n",
    "### Next I will be trying to increase the accuracy and to achieve that, I'll try some other classfication model such as Gradient Boosting and random forest as follows : "
   ]
  },
  {
   "cell_type": "code",
   "execution_count": 34,
   "metadata": {
    "ExecuteTime": {
     "end_time": "2022-06-26T21:20:11.518651Z",
     "start_time": "2022-06-26T21:20:11.504688Z"
    },
    "id": "rG8W1pTfvUdI"
   },
   "outputs": [],
   "source": [
    "# recreating the dataset\n",
    "X, y = make_classification(n_samples=1000, n_features=20, n_informative=15, n_redundant=5, random_state=1)\n",
    "#  cross-validation procedure\n",
    "cv = KFold(n_splits=10, random_state=1, shuffle=True)"
   ]
  },
  {
   "cell_type": "markdown",
   "metadata": {
    "id": "PYv0KOZ_tzQg"
   },
   "source": [
    "#### Gradient Boosting modeling"
   ]
  },
  {
   "cell_type": "code",
   "execution_count": 32,
   "metadata": {
    "ExecuteTime": {
     "end_time": "2022-06-26T21:20:12.288817Z",
     "start_time": "2022-06-26T21:20:11.519648Z"
    },
    "colab": {
     "base_uri": "https://localhost:8080/"
    },
    "id": "vBnLpc0fpd1f",
    "outputId": "8520e4ff-8ef8-459f-e167-59858c28b47e"
   },
   "outputs": [
    {
     "name": "stdout",
     "output_type": "stream",
     "text": [
      "The Accuracy with Gradient Boosting Classfier is : 0.920 with sample standard deviation of (0.025)\n"
     ]
    }
   ],
   "source": [
    "#Import the Gradient Boosting Classfier\n",
    "from sklearn.ensemble import GradientBoostingClassifier\n",
    "model = GradientBoostingClassifier()\n",
    "# evaluate model\n",
    "scores = cross_val_score(model, X, y, scoring='accuracy', cv=cv, n_jobs=-1)\n",
    "print('The Accuracy with Gradient Boosting Classfier is : %.3f with sample standard deviation of (%.3f)' % (mean(scores), std(scores)))"
   ]
  },
  {
   "cell_type": "markdown",
   "metadata": {
    "id": "emqO1m5Jt2NF"
   },
   "source": [
    "#### Next I tried the  Random Forest model with same dataset"
   ]
  },
  {
   "cell_type": "code",
   "execution_count": 35,
   "metadata": {
    "ExecuteTime": {
     "end_time": "2022-06-26T21:20:12.730678Z",
     "start_time": "2022-06-26T21:20:12.289829Z"
    },
    "colab": {
     "base_uri": "https://localhost:8080/"
    },
    "id": "-AjZL0Hao72Z",
    "outputId": "65dca82b-df18-442d-b5d9-0ffe527055e2"
   },
   "outputs": [
    {
     "name": "stdout",
     "output_type": "stream",
     "text": [
      "The Accuracy with Random Forest Classfier is: 0.921 with sample standard deviation of (0.021)\n"
     ]
    }
   ],
   "source": [
    "#Import the Random Forest Classfier\n",
    "from sklearn.ensemble import RandomForestClassifier\n",
    "model = RandomForestClassifier()\n",
    "# evaluate model\n",
    "scores = cross_val_score(model, X, y, scoring='accuracy', cv=cv, n_jobs=-1)\n",
    "print('The Accuracy with Random Forest Classfier is: %.3f with sample standard deviation of (%.3f)' % (mean(scores), std(scores)))"
   ]
  },
  {
   "cell_type": "markdown",
   "metadata": {
    "id": "bW6yZVL8vpOp"
   },
   "source": [
    "### We can see that random forest model show slightly higher accuracy 92.1%. So we will validate the random forest classfication on  Repeated K-fold validation at 3 repeats"
   ]
  },
  {
   "cell_type": "code",
   "execution_count": 37,
   "metadata": {
    "ExecuteTime": {
     "end_time": "2022-06-26T21:20:58.253624Z",
     "start_time": "2022-06-26T21:20:57.131641Z"
    },
    "colab": {
     "base_uri": "https://localhost:8080/"
    },
    "id": "JU4wPSw8pgFr",
    "outputId": "b398257e-1dd8-4cee-a341-ee7efb4b31a1"
   },
   "outputs": [
    {
     "name": "stdout",
     "output_type": "stream",
     "text": [
      "The Accuracy with Random Forest Classfier with 3 repeat k-fold validation is: 0.923 with sample standard devaition of (0.026)\n"
     ]
    }
   ],
   "source": [
    "X, y = make_classification(n_samples=1000, n_features=20, n_informative=15, n_redundant=5, random_state=1)\n",
    "cv = RepeatedKFold(n_splits=10, n_repeats=3, random_state=1)\n",
    "model = RandomForestClassifier()\n",
    "scores = cross_val_score(model, X, y, scoring='accuracy', cv=cv, n_jobs=-1)\n",
    "print('The Accuracy with Random Forest Classfier with 3 repeat k-fold validation is: %.3f with sample standard devaition of (%.3f)' % (mean(scores), std(scores)))"
   ]
  },
  {
   "cell_type": "markdown",
   "metadata": {
    "id": "ajdEy0XOp1Z1"
   },
   "source": [
    "### We can see that there is a slight increament in accuracy at 3 repeat. Hence as instructed in the blog we will repeat the process of 1 to 15 repeats."
   ]
  },
  {
   "cell_type": "code",
   "execution_count": 38,
   "metadata": {
    "ExecuteTime": {
     "end_time": "2022-06-26T21:22:03.942810Z",
     "start_time": "2022-06-26T21:21:17.280335Z"
    },
    "colab": {
     "base_uri": "https://localhost:8080/",
     "height": 580
    },
    "id": "txfVJnqApgKT",
    "outputId": "71641e4f-44f9-4f98-eb47-03fde94a47bc"
   },
   "outputs": [
    {
     "name": "stdout",
     "output_type": "stream",
     "text": [
      "The accuracy with Random Forest Classfierfor at repeat 1 is 0.9220 with a standard error of =0.008\n",
      "The accuracy with Random Forest Classfierfor at repeat 2 is 0.9200 with a standard error of =0.008\n",
      "The accuracy with Random Forest Classfierfor at repeat 3 is 0.9197 with a standard error of =0.006\n",
      "The accuracy with Random Forest Classfierfor at repeat 4 is 0.9215 with a standard error of =0.004\n",
      "The accuracy with Random Forest Classfierfor at repeat 5 is 0.9204 with a standard error of =0.004\n",
      "The accuracy with Random Forest Classfierfor at repeat 6 is 0.9195 with a standard error of =0.004\n",
      "The accuracy with Random Forest Classfierfor at repeat 7 is 0.9211 with a standard error of =0.003\n",
      "The accuracy with Random Forest Classfierfor at repeat 8 is 0.9165 with a standard error of =0.003\n",
      "The accuracy with Random Forest Classfierfor at repeat 9 is 0.9201 with a standard error of =0.003\n",
      "The accuracy with Random Forest Classfierfor at repeat 10 is 0.9224 with a standard error of =0.003\n",
      "The accuracy with Random Forest Classfierfor at repeat 11 is 0.9210 with a standard error of =0.003\n",
      "The accuracy with Random Forest Classfierfor at repeat 12 is 0.9203 with a standard error of =0.002\n",
      "The accuracy with Random Forest Classfierfor at repeat 13 is 0.9195 with a standard error of =0.002\n",
      "The accuracy with Random Forest Classfierfor at repeat 14 is 0.9201 with a standard error of =0.002\n",
      "The accuracy with Random Forest Classfierfor at repeat 15 is 0.9204 with a standard error of =0.002\n"
     ]
    }
   ],
   "source": [
    "# created another evaluate model with randomforest classifier model\n",
    "def evaluate_model(X, y, repeats):\n",
    "    # prepare the cross-validation procedure\n",
    "    cv = RepeatedKFold(n_splits=10, n_repeats=repeats, random_state=1)\n",
    "    # create model\n",
    "    model = RandomForestClassifier()\n",
    "    # evaluate model\n",
    "    scores = cross_val_score(model, X, y, scoring='accuracy', cv=cv, n_jobs=-1)\n",
    "    return scores\n",
    "\n",
    "# recreate dataset\n",
    "X, y = make_classification(n_samples=1000, n_features=20, n_informative=15, n_redundant=5, random_state=1)\n",
    "# configurations to test\n",
    "repeats = range(1,16)\n",
    "results = list()\n",
    "for r in repeats:\n",
    "    # evaluate using a given number of repeats\n",
    "    scores = evaluate_model(X, y, r)\n",
    "    # summarize\n",
    "    print('The accuracy with Random Forest Classfierfor at repeat %d is %.4f with a standard error of =%.3f' % (r, mean(scores), sem(scores)))\n",
    "    # store\n",
    "    results.append(scores)\n"
   ]
  },
  {
   "cell_type": "code",
   "execution_count": 39,
   "metadata": {},
   "outputs": [
    {
     "data": {
      "image/png": "[encoded data removed]",
      "text/plain": [
       "<Figure size 432x288 with 1 Axes>"
      ]
     },
     "metadata": {
      "needs_background": "light"
     },
     "output_type": "display_data"
    }
   ],
   "source": [
    "# plot the results\n",
    "pyplot.boxplot(results, labels=[str(r) for r in repeats], showmeans=True)\n",
    "pyplot.show()"
   ]
  },
  {
   "cell_type": "markdown",
   "metadata": {},
   "source": [
    "### Summary :\n",
    "\n",
    "#### We can see that the accuracy is highest at n =10 with 92.24 % and standard error is 0.003, and apart from that it's 92.20 in the begining at n=1 with standard error of 0.008, when we use Random Forest Classifier model, which is better than the logistic regression model."
   ]
  },
  {
   "cell_type": "code",
   "execution_count": null,
   "metadata": {},
   "outputs": [],
   "source": []
  }
 ],
 "metadata": {
  "colab": {
   "name": "Kelvina Pethani Assignment 5.ipynb",
   "provenance": []
  },
  "kernelspec": {
   "display_name": "Python 3 (ipykernel)",
   "language": "python",
   "name": "python3"
  },
  "language_info": {
   "codemirror_mode": {
    "name": "ipython",
    "version": 3
   },
   "file_extension": ".py",
   "mimetype": "text/x-python",
   "name": "python",
   "nbconvert_exporter": "python",
   "pygments_lexer": "ipython3",
   "version": "3.9.7"
  }
 },
 "nbformat": 4,
 "nbformat_minor": 1
}
