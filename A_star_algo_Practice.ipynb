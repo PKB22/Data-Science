{
 "cells": [
  {
   "cell_type": "markdown",
   "metadata": {
    "id": "dB4_y4GBm0tt"
   },
   "source": [
    "# A-Star Search Algorithm"
   ]
  },
  {
   "cell_type": "markdown",
   "metadata": {
    "id": "hRmWMPwTm5Ob"
   },
   "source": [
    "This notebook complements the walkthrough article [here](https://towardsdatascience.com/a-star-a-search-algorithm-eb495fb156bb) on the A-Star search algorithm. Throughout the notebook, we ask to you finish sections on your own and answer questions."
   ]
  },
  {
   "cell_type": "markdown",
   "metadata": {
    "id": "auBnTGWHoMle"
   },
   "source": [
    "## [Question - Describe A*]\n",
    "Describe A* search in your own words.\n",
    "\n",
    "## [Answer - Describe A*]\n",
    "A* search is an algorithm method to find the optimal path between two nodes such as the start node and end node. If we talk about a real-time example then google map is also a real-time example of the A* algorithm.\n",
    "\n",
    "The A* algorithm optimizes the path with the help of identifying the minimum cost of path nodes. Or in another word, it finds the shortest time between two nodes.\n",
    "\n",
    "A* algorithm is an optimal and complete algorithm which means it checks for all possible solutions and then provides the solution with the minimum cost.\n",
    "\n",
    "A* search uses the evaluation function which is the sum of the cost of the path from the initial node to any particular node and the minimum cost of the shortest path from that node to the target node.\n",
    "\n",
    "But there is a limitation in A* search that it takes a lot of time and required a lot of space to keep all the possible solutions.\n",
    "\n"
   ]
  },
  {
   "cell_type": "markdown",
   "metadata": {
    "id": "FsP7pSLAoooN"
   },
   "source": [
    "## [Question - Describe h and g]\n",
    "In A* search, describe the two key elements of *f(n)* (namely *h(n)* and *g(n)*). What do they represent in the algorithm and how do they differ?\n",
    "\n",
    "## [Answer - Describe h and g]\n",
    "\n",
    "In A* search, it follows the Evaluation function f(n), which is the sum of h(n) and g(n)\n",
    "\n",
    "f(n) = h(n)+g(n)\n",
    "\n",
    "In this formula :\n",
    "\n",
    "• f(n) denotes the evaluation function which describes the optimal path that continues from nth to the target node\n",
    "\n",
    "•\tg(n) function denotes the total cost of the path from the initial node to the nth node so far\n",
    "\n",
    "•\th(n) function denotes the possible cost of the shortest path available from the nth node to the target node\n"
   ]
  },
  {
   "cell_type": "markdown",
   "metadata": {
    "id": "-_VkEgNWuMDK"
   },
   "source": [
    "## [Activity - run Node]\n",
    "Examine and run the below code."
   ]
  },
  {
   "cell_type": "code",
   "execution_count": null,
   "metadata": {
    "id": "ufRvBVJBmmxA"
   },
   "outputs": [],
   "source": [
    "\n",
    "class Node():\n",
    "    \"\"\"A node class for A* Pathfinding\"\"\"\n",
    "\n",
    "    def __init__(self, parent=None, position=None):\n",
    "        self.parent = parent\n",
    "        self.position = position\n",
    "\n",
    "        self.g = 0\n",
    "        self.h = 0\n",
    "        self.f = 0\n",
    "\n",
    "    def __eq__(self, other):\n",
    "        return self.position == other.position"
   ]
  },
  {
   "cell_type": "markdown",
   "metadata": {
    "id": "Ucsmb_lfuTrp"
   },
   "source": [
    "## [Question - Explain 'Node']\n",
    "In your own words, describe what the purpose of the *Node* class is. Why do we have to initialize a parent and a position?\n",
    "\n",
    "## [Answer - Explain 'Node']\n",
    "\n",
    "In this above piece of code, the class Node is useful to determine any object node during the search where we are traversing.\n",
    "\n",
    "In this Node object we are defining the parent node and position node because we need to determine the cost of the path till we reach a node and from the starting node. This way we can keep the track of the path so far.\n",
    "\n",
    "In the Node class, we also have properties such as g, h, and f which are significant to the A* evaluation function."
   ]
  },
  {
   "cell_type": "markdown",
   "metadata": {
    "id": "B6s0TVMuur8t"
   },
   "source": [
    "## [Activity - Run astar() ]"
   ]
  },
  {
   "cell_type": "code",
   "execution_count": null,
   "metadata": {
    "id": "wYzrkdjZpxZs"
   },
   "outputs": [],
   "source": [
    "def astar(maze, start, end):\n",
    "    \"\"\"Returns a list of tuples as a path from the given start to the given end in the given maze\"\"\"\n",
    "\n",
    "    # Create start and end node\n",
    "    start_node = Node(None, start)\n",
    "    start_node.g = start_node.h = start_node.f = 0\n",
    "    end_node = Node(None, end)\n",
    "    end_node.g = end_node.h = end_node.f = 0\n",
    "\n",
    "    # Initialize both open and closed list\n",
    "    open_list = []\n",
    "    closed_list = []\n",
    "\n",
    "    # Add the start node\n",
    "    open_list.append(start_node)\n",
    "\n",
    "    # Loop until you find the end\n",
    "    while len(open_list) > 0:\n",
    "\n",
    "        # Get the current node\n",
    "        current_node = open_list[0]\n",
    "        current_index = 0\n",
    "        for index, item in enumerate(open_list):\n",
    "            if item.f < current_node.f:\n",
    "                current_node = item\n",
    "                current_index = index\n",
    "\n",
    "        # Pop current off open list, add to closed list\n",
    "        open_list.pop(current_index)\n",
    "        closed_list.append(current_node)\n",
    "\n",
    "        # Found the goal\n",
    "        if current_node == end_node:\n",
    "            path = []\n",
    "            current = current_node\n",
    "            while current is not None:\n",
    "                path.append(current.position)\n",
    "                current = current.parent\n",
    "            return path[::-1] # Return reversed path\n",
    "\n",
    "        # Generate children\n",
    "        children = []\n",
    "        for new_position in [(0, -1), (0, 1), (-1, 0), (1, 0), (-1, -1), (-1, 1), (1, -1), (1, 1)]: # Adjacent squares\n",
    "\n",
    "            # Get node position\n",
    "            node_position = (current_node.position[0] + new_position[0], current_node.position[1] + new_position[1])\n",
    "\n",
    "            # Make sure within range\n",
    "            if node_position[0] > (len(maze) - 1) or node_position[0] < 0 or node_position[1] > (len(maze[len(maze)-1]) -1) or node_position[1] < 0:\n",
    "                continue\n",
    "\n",
    "            # Make sure walkable terrain\n",
    "            if maze[node_position[0]][node_position[1]] != 0:\n",
    "                continue\n",
    "\n",
    "            # Create new node\n",
    "            new_node = Node(current_node, node_position)\n",
    "\n",
    "            # Append\n",
    "            children.append(new_node)\n",
    "\n",
    "        # Loop through children\n",
    "        for child in children:\n",
    "\n",
    "            # Child is on the closed list\n",
    "            if child in closed_list:\n",
    "              continue\n",
    "\n",
    "            # Create the f, g, and h values\n",
    "            child.g = current_node.g + 1\n",
    "            child.h = ((child.position[0] - end_node.position[0]) ** 2) + ((child.position[1] - end_node.position[1]) ** 2)\n",
    "            child.f = child.g + child.h\n",
    "\n",
    "            # Child is already in the open list\n",
    "            for open_node in open_list:\n",
    "                if child == open_node and child.g > open_node.g:\n",
    "                    continue\n",
    "\n",
    "            # Add the child to the open list\n",
    "            open_list.append(child)\n"
   ]
  },
  {
   "cell_type": "markdown",
   "metadata": {
    "id": "hral7UX2vF0z"
   },
   "source": [
    "## [Question - Explain maze]\n",
    "What type of input should value of *maze* be?\n",
    "\n",
    "## [Answer - Explain maze]\n",
    "\n",
    "A maze can be defined as a board in a 2D model where it has coordinates in (x, y). The input value of the maze will be starting node coordinates and target node coordinates.\n",
    "\n",
    "We are using the A* algorithm to find the shortest path between the start and target node based on the cost of the path and node traversing.\n",
    "\n"
   ]
  },
  {
   "cell_type": "markdown",
   "metadata": {
    "id": "EcB70Wbet1-w"
   },
   "source": [
    "## [Question - Build Main]\n",
    "Please use the above code that uses the astar() function to define a path from the beginning to the end of a maze. You can choose how the maze looks and where the start and end are."
   ]
  },
  {
   "cell_type": "code",
   "execution_count": null,
   "metadata": {
    "colab": {
     "base_uri": "https://localhost:8080/"
    },
    "id": "MY8tTsSbt1XE",
    "outputId": "50191797-05d3-468b-f7ad-56af4e00c594"
   },
   "outputs": [
    {
     "name": "stdout",
     "output_type": "stream",
     "text": [
      "[(0, 0), (1, 1), (2, 2), (2, 3), (3, 4), (4, 5), (5, 6), (5, 7)]\n"
     ]
    }
   ],
   "source": [
    "## [Your Code Here]\n",
    "\n",
    "def main():\n",
    "\n",
    "#0 shows the valid node to move while 1 shows not a legal move to make\n",
    "\n",
    "    maze = [[0, 0, 0, 0, 1, 0, 0, 0, 0],\n",
    "            [0, 0, 0, 0, 1, 0, 0, 0, 0],\n",
    "            [0, 0, 0, 0, 1, 0, 0, 0, 0],\n",
    "            [0, 0, 0, 1, 0, 0, 0, 0, 0],\n",
    "            [0, 0, 0, 0, 1, 0, 1, 0, 0],\n",
    "            [0, 0, 0, 0, 0, 0, 0, 0, 0],\n",
    "            [0, 0, 0, 0, 1, 0, 0, 0, 0]]\n",
    "\n",
    "    start_node = (0, 0)\n",
    "    target_node = (5, 7)\n",
    "    traversing_path = astar(maze, start_node, target_node)\n",
    "    print(traversing_path)\n",
    "if __name__ == '__main__':\n",
    "      main()"
   ]
  },
  {
   "cell_type": "markdown",
   "metadata": {
    "id": "_t_M9LWSwc79"
   },
   "source": [
    "## [Question - Impossible Maze]\n",
    "Now create a maze that the algorithm cannot solve. What is the output of the algorithm?"
   ]
  },
  {
   "cell_type": "markdown",
   "metadata": {
    "id": "tJORLCy5Rf0s"
   },
   "source": [
    "We can make a long maze of around 12X12, which makes it more difficult to traverse using the A* algorithm, because the total available path will be too much and the algorithm will face space and time complexity."
   ]
  },
  {
   "cell_type": "code",
   "execution_count": null,
   "metadata": {
    "colab": {
     "base_uri": "https://localhost:8080/",
     "height": 346
    },
    "id": "4H6k1skBTKoq",
    "outputId": "4e78aa3f-c744-436f-98c0-7860d00912ab"
   },
   "outputs": [
    {
     "ename": "KeyboardInterrupt",
     "evalue": "ignored",
     "output_type": "error",
     "traceback": [
      "\u001b[0;31m---------------------------------------------------------------------------\u001b[0m",
      "\u001b[0;31mKeyboardInterrupt\u001b[0m                         Traceback (most recent call last)",
      "\u001b[0;32m<ipython-input-15-e99d3ec59a43>\u001b[0m in \u001b[0;36m<module>\u001b[0;34m\u001b[0m\n\u001b[1;32m     22\u001b[0m     \u001b[0mprint\u001b[0m\u001b[0;34m(\u001b[0m\u001b[0mtraversing_path\u001b[0m\u001b[0;34m)\u001b[0m\u001b[0;34m\u001b[0m\u001b[0;34m\u001b[0m\u001b[0m\n\u001b[1;32m     23\u001b[0m \u001b[0;32mif\u001b[0m \u001b[0m__name__\u001b[0m \u001b[0;34m==\u001b[0m \u001b[0;34m'__main__'\u001b[0m\u001b[0;34m:\u001b[0m\u001b[0;34m\u001b[0m\u001b[0;34m\u001b[0m\u001b[0m\n\u001b[0;32m---> 24\u001b[0;31m       \u001b[0mmain\u001b[0m\u001b[0;34m(\u001b[0m\u001b[0;34m)\u001b[0m\u001b[0;34m\u001b[0m\u001b[0;34m\u001b[0m\u001b[0m\n\u001b[0m",
      "\u001b[0;32m<ipython-input-15-e99d3ec59a43>\u001b[0m in \u001b[0;36mmain\u001b[0;34m()\u001b[0m\n\u001b[1;32m     19\u001b[0m     \u001b[0mstart_node\u001b[0m \u001b[0;34m=\u001b[0m \u001b[0;34m(\u001b[0m\u001b[0;36m0\u001b[0m\u001b[0;34m,\u001b[0m \u001b[0;36m0\u001b[0m\u001b[0;34m)\u001b[0m\u001b[0;34m\u001b[0m\u001b[0;34m\u001b[0m\u001b[0m\n\u001b[1;32m     20\u001b[0m     \u001b[0mtarget_node\u001b[0m \u001b[0;34m=\u001b[0m \u001b[0;34m(\u001b[0m\u001b[0;36m12\u001b[0m\u001b[0;34m,\u001b[0m \u001b[0;36m12\u001b[0m\u001b[0;34m)\u001b[0m\u001b[0;34m\u001b[0m\u001b[0;34m\u001b[0m\u001b[0m\n\u001b[0;32m---> 21\u001b[0;31m     \u001b[0mtraversing_path\u001b[0m \u001b[0;34m=\u001b[0m \u001b[0mastar\u001b[0m\u001b[0;34m(\u001b[0m\u001b[0mmaze\u001b[0m\u001b[0;34m,\u001b[0m \u001b[0mstart_node\u001b[0m\u001b[0;34m,\u001b[0m \u001b[0mtarget_node\u001b[0m\u001b[0;34m)\u001b[0m\u001b[0;34m\u001b[0m\u001b[0;34m\u001b[0m\u001b[0m\n\u001b[0m\u001b[1;32m     22\u001b[0m     \u001b[0mprint\u001b[0m\u001b[0;34m(\u001b[0m\u001b[0mtraversing_path\u001b[0m\u001b[0;34m)\u001b[0m\u001b[0;34m\u001b[0m\u001b[0;34m\u001b[0m\u001b[0m\n\u001b[1;32m     23\u001b[0m \u001b[0;32mif\u001b[0m \u001b[0m__name__\u001b[0m \u001b[0;34m==\u001b[0m \u001b[0;34m'__main__'\u001b[0m\u001b[0;34m:\u001b[0m\u001b[0;34m\u001b[0m\u001b[0;34m\u001b[0m\u001b[0m\n",
      "\u001b[0;32m<ipython-input-2-af49da51f8e0>\u001b[0m in \u001b[0;36mastar\u001b[0;34m(maze, start, end)\u001b[0m\n\u001b[1;32m     21\u001b[0m         \u001b[0mcurrent_node\u001b[0m \u001b[0;34m=\u001b[0m \u001b[0mopen_list\u001b[0m\u001b[0;34m[\u001b[0m\u001b[0;36m0\u001b[0m\u001b[0;34m]\u001b[0m\u001b[0;34m\u001b[0m\u001b[0;34m\u001b[0m\u001b[0m\n\u001b[1;32m     22\u001b[0m         \u001b[0mcurrent_index\u001b[0m \u001b[0;34m=\u001b[0m \u001b[0;36m0\u001b[0m\u001b[0;34m\u001b[0m\u001b[0;34m\u001b[0m\u001b[0m\n\u001b[0;32m---> 23\u001b[0;31m         \u001b[0;32mfor\u001b[0m \u001b[0mindex\u001b[0m\u001b[0;34m,\u001b[0m \u001b[0mitem\u001b[0m \u001b[0;32min\u001b[0m \u001b[0menumerate\u001b[0m\u001b[0;34m(\u001b[0m\u001b[0mopen_list\u001b[0m\u001b[0;34m)\u001b[0m\u001b[0;34m:\u001b[0m\u001b[0;34m\u001b[0m\u001b[0;34m\u001b[0m\u001b[0m\n\u001b[0m\u001b[1;32m     24\u001b[0m             \u001b[0;32mif\u001b[0m \u001b[0mitem\u001b[0m\u001b[0;34m.\u001b[0m\u001b[0mf\u001b[0m \u001b[0;34m<\u001b[0m \u001b[0mcurrent_node\u001b[0m\u001b[0;34m.\u001b[0m\u001b[0mf\u001b[0m\u001b[0;34m:\u001b[0m\u001b[0;34m\u001b[0m\u001b[0;34m\u001b[0m\u001b[0m\n\u001b[1;32m     25\u001b[0m                 \u001b[0mcurrent_node\u001b[0m \u001b[0;34m=\u001b[0m \u001b[0mitem\u001b[0m\u001b[0;34m\u001b[0m\u001b[0;34m\u001b[0m\u001b[0m\n",
      "\u001b[0;31mKeyboardInterrupt\u001b[0m: "
     ]
    }
   ],
   "source": [
    "# if I created the below impossible maze and then tried to find the path then below is the code \n",
    "def main():\n",
    "\n",
    "#0 shows the valid node to move while 1 shows not a legal move to make\n",
    "\n",
    "    maze = [[0, 0, 0, 0, 1, 0, 0, 0, 0, 0, 0, 0],\n",
    "            [0, 0, 0, 0, 1, 0, 0, 0, 0, 0, 0, 0],\n",
    "            [0, 0, 0, 0, 1, 0, 0, 0, 0, 0, 0, 0],\n",
    "            [0, 0, 0, 0, 1, 0, 0, 0, 0, 0, 0, 0],\n",
    "            [0, 0, 0, 0, 0, 0, 0, 0, 0, 0, 0, 0],\n",
    "            [0, 0, 0, 0, 0, 0, 1, 0, 0, 0, 0, 0],\n",
    "            [0, 0, 0, 0, 0, 1, 1, 0, 0, 1, 0, 0],\n",
    "            [0, 0, 0, 1, 0, 0, 0, 0, 1, 1, 0, 0],\n",
    "            [0, 0, 0, 0, 0, 0, 0, 0, 1, 0, 0, 0],\n",
    "            [0, 0, 0, 0, 0, 0, 0, 0, 0, 0, 0, 0],\n",
    "            [0, 0, 0, 0, 0, 0, 0, 0, 0, 0, 0, 0],\n",
    "            [0, 0, 0, 0, 0, 0, 0, 0, 0, 0, 0, 0]]\n",
    "\n",
    "    start_node = (0, 0)\n",
    "    target_node = (12, 12)\n",
    "    traversing_path = astar(maze, start_node, target_node)\n",
    "    print(traversing_path)\n",
    "if __name__ == '__main__':\n",
    "      main()"
   ]
  },
  {
   "cell_type": "markdown",
   "metadata": {
    "id": "HDUm1hwjXhUz"
   },
   "source": [
    "As we can see that the code was running for so long and didn't give any result so far because the possible paths were getting issues in maintaining the space and time complexity hence it is an impossible maze to solve using A*.\n",
    "\n",
    "The session shows busy for more than 7 minutes."
   ]
  },
  {
   "cell_type": "markdown",
   "metadata": {
    "id": "uJk-AkuvYWqx"
   },
   "source": [
    "Similarly, a maze with not a valid path also cannot be resolved by the A* algorithm. Below is an example of it:"
   ]
  },
  {
   "cell_type": "code",
   "execution_count": null,
   "metadata": {
    "colab": {
     "base_uri": "https://localhost:8080/"
    },
    "id": "yoQ3fuVbwnuv",
    "outputId": "169422f5-d630-4577-b6b9-789c6ab254bc"
   },
   "outputs": [
    {
     "name": "stdout",
     "output_type": "stream",
     "text": [
      "None\n"
     ]
    }
   ],
   "source": [
    "# if I created the below impossible maze and then tried to find the path then below is the code \n",
    "def main():\n",
    "\n",
    "#0 shows the valid node to move while 1 shows not a legal move to make\n",
    "\n",
    "    maze = [[0, 0, 0, 0, 1, 0, 0, 0, 0],\n",
    "            [0, 0, 0, 0, 1, 0, 0, 0, 0],\n",
    "            [0, 0, 0, 1, 1, 0, 0, 0, 0],\n",
    "            [0, 0, 0, 1, 1, 0, 0, 0, 0],\n",
    "            [0, 0, 0, 0, 1, 0, 1, 0, 0],\n",
    "            [0, 0, 0, 0, 1, 0, 0, 0, 0],\n",
    "            [0, 0, 0, 0, 1, 0, 0, 0, 0]]\n",
    "\n",
    "    start_node = (0, 0)\n",
    "    target_node = (5, 7)\n",
    "    traversing_path = astar(maze, start_node, target_node)\n",
    "    print(traversing_path)\n",
    "if __name__ == '__main__':\n",
    "      main()"
   ]
  },
  {
   "cell_type": "markdown",
   "metadata": {
    "id": "Uwhhn8Y3YL6u"
   },
   "source": [
    "\n",
    "As we can see that there is not a valid path between the starting and targeting node. So output will be is \"None\"."
   ]
  }
 ],
 "metadata": {
  "colab": {
   "collapsed_sections": [],
   "provenance": [],
   "toc_visible": true
  },
  "kernelspec": {
   "display_name": "Python 3 (ipykernel)",
   "language": "python",
   "name": "python3"
  },
  "language_info": {
   "codemirror_mode": {
    "name": "ipython",
    "version": 3
   },
   "file_extension": ".py",
   "mimetype": "text/x-python",
   "name": "python",
   "nbconvert_exporter": "python",
   "pygments_lexer": "ipython3",
   "version": "3.9.7"
  }
 },
 "nbformat": 4,
 "nbformat_minor": 1
}
